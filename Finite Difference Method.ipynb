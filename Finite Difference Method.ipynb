{
 "cells": [
  {
   "cell_type": "markdown",
   "id": "586a4164-cf62-4379-974e-6fac063aee7c",
   "metadata": {},
   "source": [
    "# Finite Difference Schemes for 1D Heat Equation\n",
    "\n",
    "PDE:\n",
    "\n",
    "$$\n",
    "\\frac{\\partial u}{\\partial t} = \\alpha \\frac{\\partial^2 u}{\\partial x^2}, \\quad x\\in [0,L],\\ t>0\n",
    "$$\n",
    "\n",
    "Grid and notation: $x_i = i\\,\\Delta x \\ (i=0,\\dots,N)$, $t^n = n\\,\\Delta t \\ (n=0,1,\\dots)$, $u_i^n \\approx u(x_i,t^n)$, $r = \\alpha\\,\\dfrac{\\Delta t}{(\\Delta x)^2}$.\n",
    "\n",
    "### Initial Condition  \n",
    "\n",
    "We choose a sinusoidal profile:  \n",
    "\n",
    "$$\n",
    "u(x,0) = \\sin\\!\\left(\\frac{m \\pi x}{L}\\right), \\quad m=1,2,\\dots\n",
    "$$  \n",
    "\n",
    "This automatically satisfies **Dirichlet boundary conditions**:  \n",
    "\n",
    "$$\n",
    "u(0,t) = 0, \\quad u(L,t) = 0 \\quad \\text{for all } t.\n",
    "$$  \n",
    "\n",
    "\n",
    "\n",
    "\n",
    "### Exact Solution (for validation)  \n",
    "\n",
    "For this sinusoidal initial condition, the analytical solution of the heat equation is:  \n",
    "\n",
    "$$\n",
    "u(x,t) = \\sin\\!\\left(\\frac{m \\pi x}{L}\\right) \\, \n",
    "\\exp\\!\\left(-\\alpha \\left(\\frac{m \\pi}{L}\\right)^2 t \\right).\n",
    "$$  \n",
    "\n",
    "This exact solution can be used to check the accuracy of the numerical scheme.\n",
    "\n",
    "---\n",
    "\n",
    "Space discretization (central difference):\n",
    "\n",
    "$$\n",
    "\\left.\\frac{\\partial^2 u}{\\partial x^2}\\right|_{i}^{n} \\approx \\frac{u_{i+1}^n - 2u_i^n + u_{i-1}^n}{(\\Delta x)^2}\n",
    "$$\n",
    "\n",
    "---\n",
    "\n",
    "## 1) Explicit (Forward Euler in time)\n",
    "\n",
    "Time derivative: $\\left.\\frac{\\partial u}{\\partial t}\\right|_{i}^{n} \\approx \\dfrac{u_i^{n+1}-u_i^{n}}{\\Delta t}$, RHS at time $n$:\n",
    "\n",
    "$$\n",
    "u_i^{n+1} = u_i^{n} + r\\left(u_{i+1}^{n} - 2u_i^{n} + u_{i-1}^{n}\\right)\n",
    "$$\n",
    "\n",
    "Stability: $r \\leq \\tfrac{1}{2}$.\n",
    "\n",
    "---\n",
    "\n",
    "\n",
    "\n",
    "## 3) Crank–Nicolson (Trapezoidal in time)\n",
    "\n",
    "Average RHS between $n$ and $n+1$:\n",
    "\n",
    "$$\n",
    "u_i^{n+1} - \\frac{r}{2}\\left(u_{i+1}^{n+1} - 2u_i^{n+1} + u_{i-1}^{n+1}\\right)\n",
    "= u_i^{n} + \\frac{r}{2}\\left(u_{i+1}^{n} - 2u_i^{n} + u_{i-1}^{n}\\right)\n",
    "$$\n",
    "\n",
    "Second-order accurate in time, unconditionally stable, requires solving a tridiagonal system.\n"
   ]
  },
  {
   "cell_type": "markdown",
   "id": "205ad253-85c1-40a3-ab78-4ad1201ced0a",
   "metadata": {},
   "source": [
    "## 2) Implicit (Backward Euler in time)\n",
    "\n",
    "<!--Time derivative: $\\left.\\frac{\\partial u}{\\partial t}\\right|_{i}^{n+1} \\approx \\dfrac{u_i^{n+1}-u_i^{n}}{\\Delta t}$, RHS at time $n+1$:\n",
    "\n",
    "$$\n",
    "u_i^{n+1} - r\\left(u_{i+1}^{n+1} - 2u_i^{n+1} + u_{i-1}^{n+1}\\right) = u_i^{n}\n",
    "$$\n",
    "\n",
    " Unconditionally stable (requires solving a tridiagonal system). -->\n",
    "\n",
    "Time derivative:\n",
    "\n",
    "$$\n",
    "\\left.\\frac{\\partial u}{\\partial t}\\right|_{i}^{n+1} \\approx \\frac{u_i^{n+1} - u_i^n}{\\Delta t}.\n",
    "$$\n",
    "\n",
    "Space derivative (at new time level, $n+1$):\n",
    "\n",
    "$$\n",
    "\\frac{u_{i+1}^{n+1} - 2u_i^{n+1} + u_{i-1}^{n+1}}{(\\Delta x)^2}.\n",
    "$$\n",
    "\n",
    "Full scheme:\n",
    "\n",
    "$$\n",
    "\\frac{u_i^{n+1} - u_i^n}{\\Delta t} \n",
    "= \\alpha \\frac{u_{i+1}^{n+1} - 2u_i^{n+1} + u_{i-1}^{n+1}}{(\\Delta x)^2}.\n",
    "$$\n",
    "\n",
    "Rearranging:\n",
    "\n",
    "$$\n",
    "- r u_{i-1}^{n+1} + (1 + 2r) u_i^{n+1} - r u_{i+1}^{n+1} = u_i^n.\n",
    "$$\n",
    "\n",
    "This is a **tridiagonal linear system**:\n",
    "\n",
    "$$\n",
    "A \\, \\mathbf{u}^{n+1} = \\mathbf{u}^n,\n",
    "$$\n",
    "\n",
    "with\n",
    "\n",
    "$$\n",
    "A = \n",
    "\\begin{bmatrix}\n",
    "1+2r & -r    & 0     & \\cdots & 0 \\\\\n",
    "-r   & 1+2r  & -r    & \\cdots & 0 \\\\\n",
    "0    & -r    & 1+2r  & \\cdots & 0 \\\\\n",
    "\\vdots & \\vdots & \\ddots & \\ddots & -r \\\\\n",
    "0 & 0 & \\cdots & -r & 1+2r\n",
    "\\end{bmatrix}.\n",
    "$$\n",
    "\n",
    "\n",
    "---"
   ]
  },
  {
   "cell_type": "code",
   "execution_count": 1,
   "id": "8adc3366-7a51-437b-8c12-33ff7abae60a",
   "metadata": {},
   "outputs": [],
   "source": [
    "import numpy as np\n",
    "import matplotlib.pyplot as plt"
   ]
  },
  {
   "cell_type": "code",
   "execution_count": 3,
   "id": "7fb3080c-45e9-40af-b6a7-860b94c1cd9b",
   "metadata": {},
   "outputs": [
    {
     "data": {
      "text/plain": [
       "array([[ 1.2002002, -0.1001001,  0.       ,  0.       ,  0.       ,\n",
       "         0.       ,  0.       ,  0.       ,  0.       ,  0.       ,\n",
       "         0.       ],\n",
       "       [-0.1001001,  1.2002002, -0.1001001,  0.       ,  0.       ,\n",
       "         0.       ,  0.       ,  0.       ,  0.       ,  0.       ,\n",
       "         0.       ],\n",
       "       [ 0.       , -0.1001001,  1.2002002, -0.1001001,  0.       ,\n",
       "         0.       ,  0.       ,  0.       ,  0.       ,  0.       ,\n",
       "         0.       ],\n",
       "       [ 0.       ,  0.       , -0.1001001,  1.2002002, -0.1001001,\n",
       "         0.       ,  0.       ,  0.       ,  0.       ,  0.       ,\n",
       "         0.       ],\n",
       "       [ 0.       ,  0.       ,  0.       , -0.1001001,  1.2002002,\n",
       "        -0.1001001,  0.       ,  0.       ,  0.       ,  0.       ,\n",
       "         0.       ],\n",
       "       [ 0.       ,  0.       ,  0.       ,  0.       , -0.1001001,\n",
       "         1.2002002, -0.1001001,  0.       ,  0.       ,  0.       ,\n",
       "         0.       ],\n",
       "       [ 0.       ,  0.       ,  0.       ,  0.       ,  0.       ,\n",
       "        -0.1001001,  1.2002002, -0.1001001,  0.       ,  0.       ,\n",
       "         0.       ],\n",
       "       [ 0.       ,  0.       ,  0.       ,  0.       ,  0.       ,\n",
       "         0.       , -0.1001001,  1.2002002, -0.1001001,  0.       ,\n",
       "         0.       ],\n",
       "       [ 0.       ,  0.       ,  0.       ,  0.       ,  0.       ,\n",
       "         0.       ,  0.       , -0.1001001,  1.2002002, -0.1001001,\n",
       "         0.       ],\n",
       "       [ 0.       ,  0.       ,  0.       ,  0.       ,  0.       ,\n",
       "         0.       ,  0.       ,  0.       , -0.1001001,  1.2002002,\n",
       "        -0.1001001],\n",
       "       [ 0.       ,  0.       ,  0.       ,  0.       ,  0.       ,\n",
       "         0.       ,  0.       ,  0.       ,  0.       , -0.1001001,\n",
       "         1.2002002]])"
      ]
     },
     "execution_count": 3,
     "metadata": {},
     "output_type": "execute_result"
    }
   ],
   "source": [
    "Nx = 10\n",
    "Nt = 1000-1\n",
    "L = 1.0\n",
    "T = 1.0\n",
    "a = 1\n",
    "hx = L/Nx\n",
    "ht = T/Nt\n",
    "r = (a*ht)/(hx*hx)\n",
    "x = hx * np.arange(0,Nx+1,1)\n",
    "m = 1\n",
    "initial_condition = lambda x : np.sin((m * np.pi * x)/L)\n",
    "\n",
    "ux0 = initial_condition(x)\n",
    "\n",
    "#ux0 = list(ux0)\n",
    "dim = len(ux0)\n",
    "A = np.eye(dim)*(1.0+2.0*r)\n",
    "A[np.arange(0,Nx,1),np.arange(1,Nx+1,1)] = - r #Filling upper diagonals\n",
    "A[np.arange(1,Nx+1,1),np.arange(0,Nx,1)] = - r #Filling lower diagonals\n",
    "A"
   ]
  },
  {
   "cell_type": "code",
   "execution_count": 4,
   "id": "f595678f-38a0-4ce9-b0a9-d8b76e8bdc04",
   "metadata": {},
   "outputs": [],
   "source": [
    "#np.linalg.inv(A)*\n",
    "#ux0\n",
    "uxt = np.dot(np.linalg.inv(A),ux0)"
   ]
  },
  {
   "cell_type": "code",
   "execution_count": 8,
   "id": "9106bf27-4ab0-4943-9465-40c4c3e22990",
   "metadata": {},
   "outputs": [
    {
     "data": {
      "text/plain": [
       "array([0.02570286, 0.30817729, 0.58226305, 0.801182  , 0.94182931,\n",
       "       0.9902968 , 0.94182931, 0.801182  , 0.58226305, 0.30817729,\n",
       "       0.02570286])"
      ]
     },
     "execution_count": 8,
     "metadata": {},
     "output_type": "execute_result"
    }
   ],
   "source": [
    "np.linalg.solve(A,ux0)"
   ]
  },
  {
   "cell_type": "code",
   "execution_count": 6,
   "id": "694b6454-9b43-46f2-8b01-2bc5dcc6d843",
   "metadata": {},
   "outputs": [
    {
     "data": {
      "text/plain": [
       "array([0.02570286, 0.30817729, 0.58226305, 0.801182  , 0.94182931,\n",
       "       0.9902968 , 0.94182931, 0.801182  , 0.58226305, 0.30817729,\n",
       "       0.02570286])"
      ]
     },
     "execution_count": 6,
     "metadata": {},
     "output_type": "execute_result"
    }
   ],
   "source": [
    "uxt"
   ]
  },
  {
   "cell_type": "code",
   "execution_count": 5,
   "id": "6f39c3ac-c98e-4ba5-b0bf-7a05f985dc36",
   "metadata": {},
   "outputs": [
    {
     "data": {
      "image/png": "[encoded data removed]",
      "text/plain": [
       "<Figure size 640x480 with 1 Axes>"
      ]
     },
     "metadata": {},
     "output_type": "display_data"
    }
   ],
   "source": [
    "plt.plot(x,uxt)\n",
    "plt.show()"
   ]
  },
  {
   "cell_type": "code",
   "execution_count": null,
   "id": "a3878b0d-8e6c-4caa-88bb-1e3024399d61",
   "metadata": {},
   "outputs": [],
   "source": []
  }
 ],
 "metadata": {
  "kernelspec": {
   "display_name": "Python [conda env:base] *",
   "language": "python",
   "name": "conda-base-py"
  },
  "language_info": {
   "codemirror_mode": {
    "name": "ipython",
    "version": 3
   },
   "file_extension": ".py",
   "mimetype": "text/x-python",
   "name": "python",
   "nbconvert_exporter": "python",
   "pygments_lexer": "ipython3",
   "version": "3.13.5"
  }
 },
 "nbformat": 4,
 "nbformat_minor": 5
}
