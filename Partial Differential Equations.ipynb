{
 "cells": [
  {
   "cell_type": "markdown",
   "id": "9147ed55-9e3b-4d94-80d2-5ab0d76804d9",
   "metadata": {},
   "source": [
    "# Finite Difference Method for the Schrödinger Equation\n",
    "\n",
    "---\n",
    "\n",
    "## 1. Setup and Notation\n",
    "\n",
    "We work in *atomic units* ($\\hbar = 1, m = 1$) so that the Schrödinger equations read:\n",
    "\n",
    "$$\n",
    "\\text{(TISE)} \\quad -\\tfrac{1}{2}\\,\\psi''(x) + V(x)\\,\\psi(x) \\;=\\; E\\,\\psi(x)\n",
    "$$\n",
    "\n",
    "$$\n",
    "\\text{(TDSE)} \\quad i\\,\\frac{\\partial \\psi}{\\partial t}(x,t) \\;=\\; \\left[-\\tfrac{1}{2}\\,\\frac{\\partial^2}{\\partial x^2} + V(x)\\right]\\psi(x,t)\n",
    "$$\n",
    "\n",
    "We discretize the spatial domain $[x_{\\min},x_{\\max}]$ into $N$ intervals: $\n",
    "x_j = x_{\\min} + jh, \n",
    "\\qquad \n",
    "h = \\frac{x_{\\max} - x_{\\min}}{N}, \n",
    "\\qquad j = 0,1,\\dots,N\n",
    "$\n",
    "\n",
    "We impose Dirichlet boundary conditions for a particle in a box: $\n",
    "\\psi(x_{\\min}) = 0, \\qquad \\psi(x_{\\max}) = 0\n",
    "$\n",
    "\n",
    "---\n",
    "\n",
    "## 2. Finite Difference Approximation\n",
    "\n",
    "The second derivative is approximated using the central difference formula:\n",
    "\n",
    "$$\n",
    "\\psi''(x_j) \\;\\approx\\; \\frac{\\psi_{j+1} - 2\\psi_j + \\psi_{j-1}}{h^2}\n",
    "$$\n",
    "\n",
    "This replacement converts the differential equation into a system of algebraic equations on the discrete grid.\n",
    "\n",
    "---\n",
    "\n",
    "## 3. Time-Independent Schrödinger Equation (Matrix Form)\n",
    "\n",
    "At interior points $$j = 1,2,\\dots,N-1$$, the discretized equation is:\n",
    "\n",
    "$$\n",
    "-\\frac{1}{2}\\,\\frac{\\psi_{j+1} - 2\\psi_j + \\psi_{j-1}}{h^2}\n",
    "\\;+\\; V_j\\,\\psi_j \n",
    "\\;=\\; E\\,\\psi_j\n",
    "$$\n",
    "\n",
    "Collecting the unknowns  \n",
    "\n",
    "$$\n",
    "\\boldsymbol{\\psi} = (\\psi_1, \\psi_2, \\dots, \\psi_{N-1})^\\top ,\n",
    "$$\n",
    "\n",
    "we obtain the matrix eigenvalue problem:\n",
    "\n",
    "$$\n",
    "H\\,\\boldsymbol{\\psi} = E\\,\\boldsymbol{\\psi}\n",
    "$$\n",
    "\n",
    "Here the Hamiltonian matrix is tridiagonal:\n",
    "\n",
    "$$\n",
    "H = -\\frac{1}{2h^2}\n",
    "\\begin{bmatrix}\n",
    "-2 & 1  &        &        & 0 \\\\\n",
    "1  & -2 & 1      &        &   \\\\\n",
    "   & \\ddots & \\ddots & \\ddots &   \\\\\n",
    "   &        & 1  & -2 & 1 \\\\\n",
    "0  &        &    & 1  & -2\n",
    "\\end{bmatrix}\n",
    "+ \\operatorname{diag}(V_1,\\dots,V_{N-1})\n",
    "$$\n",
    "\n",
    "This symmetric matrix eigenproblem can be solved numerically to obtain approximate energy eigenvalues $E$ and wavefunctions $\\psi$.\n"
   ]
  },
  {
   "cell_type": "code",
   "execution_count": 31,
   "id": "7b994387-d8ff-4604-9de3-227ca369751f",
   "metadata": {},
   "outputs": [],
   "source": [
    "import numpy as np\n",
    "x = np.linspace(-5,5,6)\n",
    "dim = len(x)"
   ]
  },
  {
   "cell_type": "code",
   "execution_count": 35,
   "id": "4e4704bf-8f74-4a81-9d94-5d98bf1b0606",
   "metadata": {},
   "outputs": [],
   "source": [
    "H = np.zeros((dim,dim))"
   ]
  },
  {
   "cell_type": "code",
   "execution_count": 41,
   "id": "cd64fb13-fe20-445f-9f4c-ab5043ad3646",
   "metadata": {},
   "outputs": [
    {
     "data": {
      "text/plain": [
       "np.float64(0.0)"
      ]
     },
     "execution_count": 41,
     "metadata": {},
     "output_type": "execute_result"
    }
   ],
   "source": [
    "for i"
   ]
  },
  {
   "cell_type": "code",
   "execution_count": null,
   "id": "aec2fe27-896a-4b6c-8ee4-f2d2c515d855",
   "metadata": {},
   "outputs": [],
   "source": []
  }
 ],
 "metadata": {
  "kernelspec": {
   "display_name": "Python [conda env:base] *",
   "language": "python",
   "name": "conda-base-py"
  },
  "language_info": {
   "codemirror_mode": {
    "name": "ipython",
    "version": 3
   },
   "file_extension": ".py",
   "mimetype": "text/x-python",
   "name": "python",
   "nbconvert_exporter": "python",
   "pygments_lexer": "ipython3",
   "version": "3.13.5"
  }
 },
 "nbformat": 4,
 "nbformat_minor": 5
}
