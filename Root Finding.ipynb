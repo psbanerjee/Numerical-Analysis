{
 "cells": [
  {
   "cell_type": "markdown",
   "id": "d4fa4381-cce6-40c1-8085-87454f8eff73",
   "metadata": {},
   "source": [
    "# Root Finding"
   ]
  },
  {
   "cell_type": "markdown",
   "id": "f7afbdf2-7478-4690-9fc9-32112fe51ed0",
   "metadata": {},
   "source": [
    "## Secant Method\n",
    "\n",
    "We want to solve \n",
    "\\begin{equation}\n",
    "f(x) = 0\n",
    "\\end{equation}\n",
    "\n",
    "The method begins with two initial guesses $x_0$ and $x_1$.\n",
    "\n",
    "The iteration formula is obtained by intersecting the secant line \n",
    "through $(x_{n-1}, f(x_{n-1}))$ and $(x_{n}, f(x_{n}))$ with the $x$-axis:\n",
    "\n",
    "\\begin{equation}\n",
    "x_{n+1} = x_n - f(x_n)\\,\\frac{x_n - x_{n-1}}{f(x_n) - f(x_{n-1})}\n",
    "\\end{equation}\n",
    "\n",
    "### Properties\n",
    "- Requires no derivative (unlike Newton–Raphson).\n",
    "- Needs two starting values $x_0, x_1$.\n",
    "- Convergence is superlinear (faster than bisection, slower than Newton).\n",
    "- May fail if $f(x_n) = f(x_{n-1})$.\n",
    "\n",
    "### Problem\n",
    "\n",
    "Use the **secant method** to approximate a root of the function\n",
    "\n",
    "\\begin{equation}\n",
    "f(x) = x^3 - x - 2\n",
    "\\end{equation}\n",
    "\n",
    "Start with the initial guesses\n",
    "\n",
    "\\begin{equation}\n",
    "x_0 = 1, \\quad x_1 = 2\n",
    "\\end{equation}\n",
    "\n",
    "Iterate until the approximate error is less than $10^{-6}$."
   ]
  },
  {
   "cell_type": "code",
   "execution_count": 1,
   "id": "c8ca1b71-2297-47f1-984a-97365e8895dc",
   "metadata": {},
   "outputs": [
    {
     "name": "stdout",
     "output_type": "stream",
     "text": [
      "1.3333333333333335\n",
      "1.462686567164179\n",
      "1.5311694321412044\n",
      "1.5209264205152802\n",
      "1.5213763166697438\n",
      "1.5213797079848717\n",
      "The root is : 1.521\n"
     ]
    }
   ],
   "source": [
    "func = lambda x : pow(x,3) - x - 2.0\n",
    "def secant_iter(x0,x1):\n",
    "    x2 = x1 - (func(x1)*(x1-x0)/(func(x1)-func(x0)))\n",
    "    return x1,x2\n",
    "\n",
    "x0 = 1.0\n",
    "x1 = 2.0\n",
    "while abs(func(x1))>1e-6:\n",
    "    x0, x1 = secant_iter(x0,x1)\n",
    "    print(x1)\n",
    "\n",
    "print(\"The root is : {root:.3f}\".format(root=x1))"
   ]
  },
  {
   "cell_type": "code",
   "execution_count": null,
   "id": "66d5c8df-b01d-401e-bb25-f3e2ee07428f",
   "metadata": {},
   "outputs": [],
   "source": []
  }
 ],
 "metadata": {
  "kernelspec": {
   "display_name": "Python 3 (ipykernel)",
   "language": "python",
   "name": "python3"
  },
  "language_info": {
   "codemirror_mode": {
    "name": "ipython",
    "version": 3
   },
   "file_extension": ".py",
   "mimetype": "text/x-python",
   "name": "python",
   "nbconvert_exporter": "python",
   "pygments_lexer": "ipython3",
   "version": "3.13.5"
  }
 },
 "nbformat": 4,
 "nbformat_minor": 5
}
