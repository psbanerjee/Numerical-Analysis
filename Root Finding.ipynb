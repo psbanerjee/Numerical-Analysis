{
 "cells": [
  {
   "cell_type": "markdown",
   "id": "d4fa4381-cce6-40c1-8085-87454f8eff73",
   "metadata": {},
   "source": [
    "# Root Finding"
   ]
  },
  {
   "cell_type": "markdown",
   "id": "f7afbdf2-7478-4690-9fc9-32112fe51ed0",
   "metadata": {},
   "source": [
    "## Secant Method\n",
    "\n",
    "We want to solve \n",
    "\\begin{equation}\n",
    "f(x) = 0\n",
    "\\end{equation}\n",
    "\n",
    "The method begins with two initial guesses $x_0$ and $x_1$.\n",
    "\n",
    "The iteration formula is obtained by intersecting the secant line \n",
    "through $(x_{n-1}, f(x_{n-1}))$ and $(x_{n}, f(x_{n}))$ with the $x$-axis:\n",
    "\n",
    "\\begin{equation}\n",
    "x_{n+1} = x_n - f(x_n)\\,\\frac{x_n - x_{n-1}}{f(x_n) - f(x_{n-1})}\n",
    "\\end{equation}\n",
    "\n",
    "### Properties\n",
    "- Requires no derivative (unlike Newton–Raphson).\n",
    "- Needs two starting values $x_0, x_1$.\n",
    "- Convergence is superlinear (faster than bisection, slower than Newton).\n",
    "- May fail if $f(x_n) = f(x_{n-1})$.\n",
    "\n",
    "### Problem\n",
    "\n",
    "Use the **secant method** to approximate a root of the function\n",
    "\n",
    "\\begin{equation}\n",
    "f(x) = x^3 - x - 2\n",
    "\\end{equation}\n",
    "\n",
    "Start with the initial guesses\n",
    "\n",
    "\\begin{equation}\n",
    "x_0 = 1, \\quad x_1 = 2\n",
    "\\end{equation}\n",
    "\n",
    "Iterate until the approximate error is less than $10^{-6}$."
   ]
  },
  {
   "cell_type": "code",
   "execution_count": 1,
   "id": "c8ca1b71-2297-47f1-984a-97365e8895dc",
   "metadata": {},
   "outputs": [
    {
     "name": "stdout",
     "output_type": "stream",
     "text": [
      "The root is : 1.521\n"
     ]
    }
   ],
   "source": [
    "func = lambda x : pow(x,3) - x - 2.0\n",
    "def secant_iter(x0,x1):\n",
    "    x2 = x1 - (func(x1)*(x1-x0)/(func(x1)-func(x0)))\n",
    "    return x1,x2\n",
    "\n",
    "x0 = 1.0\n",
    "x1 = 2.0\n",
    "while abs(func(x1))>1e-6:\n",
    "    x0, x1 = secant_iter(x0,x1)\n",
    "print(\"The root is : {root:.3f}\".format(root=x1))"
   ]
  },
  {
   "cell_type": "markdown",
   "id": "0329ff81-a14c-44d0-ae5f-df66b34ada8f",
   "metadata": {},
   "source": [
    "## Newton–Raphson Method\n",
    "\n",
    "We want to solve \n",
    "\\begin{equation}\n",
    "f(x) = 0\n",
    "\\end{equation}\n",
    "\n",
    "The method begins with one initial guess $x_0$.\n",
    "\n",
    "The iteration formula is obtained by intersecting the tangent line \n",
    "at $(x_n, f(x_n))$ with the $x$-axis:\n",
    "\n",
    "\\begin{equation}\n",
    "x_{n+1} = x_n - \\frac{f(x_n)}{f'(x_n)}\n",
    "\\end{equation}\n",
    "\n",
    "### Properties\n",
    "- Requires the derivative $f'(x)$.\n",
    "- Needs only one starting value $x_0$.\n",
    "- Converges quadratically if the initial guess is close enough.\n",
    "- May fail if $f'(x_n) = 0$ or if the initial guess is poor.\n",
    "\n",
    "### Problem\n",
    "\n",
    "Use the **Newton–Raphson method** to approximate a root of the function\n",
    "\n",
    "\\begin{equation}\n",
    "f(x) = \\cos(x) - x\n",
    "\\end{equation}\n",
    "\n",
    "Start with the initial guess\n",
    "\n",
    "\\begin{equation}\n",
    "x_0 = 1\n",
    "\\end{equation}\n",
    "\n",
    "Iterate until the approximate error is less than $10^{-6}$.\n",
    "\n"
   ]
  },
  {
   "cell_type": "code",
   "execution_count": 2,
   "id": "9aff621b-c7e0-4fcf-9a5b-ec67ee1e24af",
   "metadata": {},
   "outputs": [
    {
     "name": "stdout",
     "output_type": "stream",
     "text": [
      "The root is : 0.739\n"
     ]
    }
   ],
   "source": [
    "from math import cos, sin\n",
    "fx = lambda x : cos(x) - x\n",
    "\n",
    "dfx = lambda x: - sin(x) -1.0\n",
    "\n",
    "NR_iter = lambda xn: (xn - (fx(xn)/dfx(xn)))\n",
    "\n",
    "x0=1.0\n",
    "x1 = NR_iter(x0)\n",
    "while abs(fx(x1)) > 1e-100:\n",
    "    x0 = x1\n",
    "    x1 = NR_iter(x1)\n",
    "print(\"The root is : {x1:2.3f}\".format(x1=x1))"
   ]
  },
  {
   "cell_type": "markdown",
   "id": "59721838-04a3-4711-b85a-cdf14373aa14",
   "metadata": {},
   "source": [
    "## Bisection Method\n",
    "\n",
    "We want to solve \n",
    "\\begin{equation}\n",
    "f(x) = 0\n",
    "\\end{equation}\n",
    "\n",
    "Assume $f(a)$ and $f(b)$ have opposite signs, i.e. \n",
    "\\begin{equation}\n",
    "f(a)\\,f(b) < 0\n",
    "\\end{equation}\n",
    "which guarantees a root in the interval $[a,b]$.\n",
    "\n",
    "The midpoint is\n",
    "\\begin{equation}\n",
    "c = \\frac{a+b}{2}\n",
    "\\end{equation}\n",
    "\n",
    "The iteration rule is:\n",
    "- If $f(a)\\,f(c) < 0$, then the root lies in $[a,c]$.\n",
    "- Else, the root lies in $[c,b]$.\n",
    "\n",
    "The process is repeated until the interval length is sufficiently small.\n",
    "\n",
    "### Properties\n",
    "- Always converges if $f$ is continuous and $f(a)\\,f(b)<0$.\n",
    "- Convergence is linear (slower than Newton and Secant).\n",
    "- Requires bracketing of the root.\n",
    "\n",
    "### Problem\n",
    "\n",
    "Use the **Bisection Method** to approximate a root of the function $f(x) = x^3 - 4x + 1$. Start with the interval $[a, b] = [1, 2]$. Iterate until the interval length is less than $10^{-6}$.\n",
    "\n"
   ]
  },
  {
   "cell_type": "code",
   "execution_count": 8,
   "id": "e4f01ee9-87cf-491b-92c9-692709728c6d",
   "metadata": {},
   "outputs": [
    {
     "ename": "SyntaxError",
     "evalue": "invalid syntax (1092622088.py, line 17)",
     "output_type": "error",
     "traceback": [
      "\u001b[1;36m  Cell \u001b[1;32mIn[8], line 17\u001b[1;36m\u001b[0m\n\u001b[1;33m    while abs(func(c)>1e-6:\u001b[0m\n\u001b[1;37m                          ^\u001b[0m\n\u001b[1;31mSyntaxError\u001b[0m\u001b[1;31m:\u001b[0m invalid syntax\n"
     ]
    }
   ],
   "source": [
    "func = lambda x : pow(x,3) -4*x +1\n",
    "\n",
    "def bisection(a,b):\n",
    "    c = (a+b)/2\n",
    "    if func(a)*func(c)<0:\n",
    "        return a,c\n",
    "    else:\n",
    "        return c,b\n",
    "\n",
    "a = 1.0\n",
    "b = 2.0\n",
    "c = (a+b)/2.0\n",
    "if func(a)*func(b)>0 :\n",
    "    print(\"There is no root inside the given guesses.\")\n",
    "else:\n",
    "    print(\"Calculating root of the function inside the given interval [{},{}]\".format(a,b))\n",
    "    while abs(func(c)>1e-6:\n",
    "        a,b = bisection(a,b)\n",
    "        c = (a+b)/2.0\n",
    "    print(\"The root of the given function is {root:.3f}\".format(root= c))\n",
    "        \n",
    "    "
   ]
  },
  {
   "cell_type": "code",
   "execution_count": null,
   "id": "58ec6a72-e044-401a-bf9f-cbd36d5b2592",
   "metadata": {},
   "outputs": [],
   "source": []
  }
 ],
 "metadata": {
  "kernelspec": {
   "display_name": "Python [conda env:base] *",
   "language": "python",
   "name": "conda-base-py"
  },
  "language_info": {
   "codemirror_mode": {
    "name": "ipython",
    "version": 3
   },
   "file_extension": ".py",
   "mimetype": "text/x-python",
   "name": "python",
   "nbconvert_exporter": "python",
   "pygments_lexer": "ipython3",
   "version": "3.13.5"
  }
 },
 "nbformat": 4,
 "nbformat_minor": 5
}
